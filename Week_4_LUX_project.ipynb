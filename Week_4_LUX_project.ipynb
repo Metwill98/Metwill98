{
  "nbformat": 4,
  "nbformat_minor": 0,
  "metadata": {
    "colab": {
      "provenance": [],
      "authorship_tag": "ABX9TyNRwC+czSZzP5hScD7V3qIM",
      "include_colab_link": true
    },
    "kernelspec": {
      "name": "python3",
      "display_name": "Python 3"
    },
    "language_info": {
      "name": "python"
    }
  },
  "cells": [
    {
      "cell_type": "markdown",
      "metadata": {
        "id": "view-in-github",
        "colab_type": "text"
      },
      "source": [
        "<a href=\"https://colab.research.google.com/github/Metwill98/Metwill98/blob/main/Week_4_LUX_project.ipynb\" target=\"_parent\"><img src=\"https://colab.research.google.com/assets/colab-badge.svg\" alt=\"Open In Colab\"/></a>"
      ]
    },
    {
      "cell_type": "code",
      "execution_count": 2,
      "metadata": {
        "colab": {
          "base_uri": "https://localhost:8080/"
        },
        "id": "LO10mlkwhyd8",
        "outputId": "56d28220-89a9-4e74-a845-a7cddd11d829"
      },
      "outputs": [
        {
          "output_type": "stream",
          "name": "stdout",
          "text": [
            "'madam' is a palindrome: True\n",
            "'racecar' is a palindrome: True\n",
            "'apple' is a palindrome: False\n"
          ]
        }
      ],
      "source": [
        "# Check if a string is a palindrome or not\n",
        "def is_palindrome(text):\n",
        "    stack = []\n",
        "    for char in text:\n",
        "        stack.append(char)\n",
        "\n",
        "    for char in text:\n",
        "        if char != stack.pop():\n",
        "            return False\n",
        "    return True\n",
        "\n",
        "# Example usage\n",
        "string1 = \"madam\"\n",
        "string2 = \"racecar\"\n",
        "string3 = \"apple\"\n",
        "\n",
        "print(f\"'{string1}' is a palindrome: {is_palindrome(string1)}\")\n",
        "print(f\"'{string2}' is a palindrome: {is_palindrome(string2)}\")\n",
        "print(f\"'{string3}' is a palindrome: {is_palindrome(string3)}\")\n"
      ]
    },
    {
      "cell_type": "markdown",
      "source": [
        "2. List comprehension provides a concise way to create lists in Python. It consists of an expression followed by a **for** clause, then zero or more **for** or **if** clauses. The result is a new list resulting from evaluating the expression in the context of the **for** and **if** clauses.\n",
        "\n",
        "Here are three examples:"
      ],
      "metadata": {
        "id": "RUjSh2iOkyc9"
      }
    },
    {
      "cell_type": "code",
      "source": [
        "# 1.Squaring numbers\n",
        "squares = [x**2 for x in range(10)]\n",
        "print(squares)"
      ],
      "metadata": {
        "colab": {
          "base_uri": "https://localhost:8080/"
        },
        "id": "C9diDP94lfRf",
        "outputId": "c850e698-fe50-4dc9-cd45-c68768210707"
      },
      "execution_count": 7,
      "outputs": [
        {
          "output_type": "stream",
          "name": "stdout",
          "text": [
            "[0, 1, 4, 9, 16, 25, 36, 49, 64, 81]\n"
          ]
        }
      ]
    },
    {
      "cell_type": "code",
      "source": [
        "# 2. Filtering even numbers\n",
        "even_numbers = [x for x in range(10) if x % 2 == 0]\n",
        "print(even_numbers)"
      ],
      "metadata": {
        "colab": {
          "base_uri": "https://localhost:8080/"
        },
        "id": "_b0SWfxFmNg8",
        "outputId": "87eba8b8-7a6c-4d60-a220-412eeb8670d6"
      },
      "execution_count": 8,
      "outputs": [
        {
          "output_type": "stream",
          "name": "stdout",
          "text": [
            "[0, 2, 4, 6, 8]\n"
          ]
        }
      ]
    },
    {
      "cell_type": "code",
      "source": [
        "# 3. Creating a list of tuples\n",
        "pairs = [(x, y) for x in range(3) for y in range(3)]\n",
        "print(pairs)\n"
      ],
      "metadata": {
        "colab": {
          "base_uri": "https://localhost:8080/"
        },
        "id": "emRSV--Tmoew",
        "outputId": "7422abcc-c788-4b03-e19c-738d18e1aa33"
      },
      "execution_count": 9,
      "outputs": [
        {
          "output_type": "stream",
          "name": "stdout",
          "text": [
            "[(0, 0), (0, 1), (0, 2), (1, 0), (1, 1), (1, 2), (2, 0), (2, 1), (2, 2)]\n"
          ]
        }
      ]
    },
    {
      "cell_type": "markdown",
      "source": [
        "3. In Python, a compound datatype is a data type that is made up of other data types. They are used to group together multiple values into a single entity.They include:\n",
        "Lists, Tuples and Dictionaries"
      ],
      "metadata": {
        "id": "rQOp2tOBnODS"
      }
    },
    {
      "cell_type": "code",
      "source": [
        "# 1.Lists\n",
        "my_list = [1, 2, 3, 4, 5]\n",
        "print(my_list)"
      ],
      "metadata": {
        "colab": {
          "base_uri": "https://localhost:8080/"
        },
        "id": "DmGSx126n1x7",
        "outputId": "289e0fce-2874-4a05-886d-fe98fea18ded"
      },
      "execution_count": 10,
      "outputs": [
        {
          "output_type": "stream",
          "name": "stdout",
          "text": [
            "[1, 2, 3, 4, 5]\n"
          ]
        }
      ]
    },
    {
      "cell_type": "code",
      "source": [
        "# 2. Tuples\n",
        "my_tuple = (1, 2, 3, 4, 5)\n",
        "print(my_tuple)"
      ],
      "metadata": {
        "colab": {
          "base_uri": "https://localhost:8080/"
        },
        "id": "uNEsbAvroHW7",
        "outputId": "40eb86e4-49e6-444f-9fa6-5a76073a2a64"
      },
      "execution_count": 11,
      "outputs": [
        {
          "output_type": "stream",
          "name": "stdout",
          "text": [
            "(1, 2, 3, 4, 5)\n"
          ]
        }
      ]
    },
    {
      "cell_type": "code",
      "source": [
        "# 3. Dictionaries\n",
        "my_dict = {\"name\": \"Alice\", \"age\": 30, \"city\": \"New York\"}\n",
        "print(my_dict)"
      ],
      "metadata": {
        "colab": {
          "base_uri": "https://localhost:8080/"
        },
        "id": "shGHcbm1oHVZ",
        "outputId": "3eb0733b-0703-4fbd-ab85-10a76ac09575"
      },
      "execution_count": 14,
      "outputs": [
        {
          "output_type": "stream",
          "name": "stdout",
          "text": [
            "{'name': 'Alice', 'age': 30, 'city': 'New York'}\n"
          ]
        }
      ]
    },
    {
      "cell_type": "code",
      "source": [
        "#4. Function that takes a string and returns a list of bigrams\n",
        "def find_bigrams(text):\n",
        "  \"\"\"\n",
        "  This function takes a string and returns a list of its bigrams.\n",
        "\n",
        "  Args:\n",
        "    text: The input string.\n",
        "\n",
        "  Returns:\n",
        "    A list of bigrams (tuples of two consecutive words).\n",
        "  \"\"\"\n",
        "  words = text.split()\n",
        "  bigrams = [(words[i], words[i + 1]) for i in range(len(words) - 1)]\n",
        "  return bigrams\n",
        "\n",
        "# Example usage\n",
        "text = \"This is a sample sentence.\"\n",
        "bigrams_list = find_bigrams(text)\n",
        "print(bigrams_list)  # Output: [('This', 'is'), ('is', 'a'), ('a', 'sample'), ('sample', 'sentence.')]\n"
      ],
      "metadata": {
        "colab": {
          "base_uri": "https://localhost:8080/"
        },
        "id": "fmEBjUsWp07t",
        "outputId": "93b06387-dc23-48a4-fe8f-6f0148541a0b"
      },
      "execution_count": 15,
      "outputs": [
        {
          "output_type": "stream",
          "name": "stdout",
          "text": [
            "[('This', 'is'), ('is', 'a'), ('a', 'sample'), ('sample', 'sentence.')]\n"
          ]
        }
      ]
    },
    {
      "cell_type": "code",
      "source": [
        "#5.\n",
        "def closest_key(dictionary, value):\n",
        "  \"\"\"\n",
        "  Finds the key in the dictionary whose value (a list) has the input value closest to the beginning.\n",
        "\n",
        "  Args:\n",
        "    dictionary: A dictionary with letters as keys and lists of letters as values.\n",
        "    value: The letter to search for.\n",
        "\n",
        "  Returns:\n",
        "    The key whose value list has the input value closest to the beginning, or None if the value is not found.\n",
        "  \"\"\"\n",
        "\n",
        "  closest_key = None\n",
        "  closest_index = float('inf')  # Initialize with positive infinity\n",
        "\n",
        "  for key, value_list in dictionary.items():\n",
        "    if value in value_list:\n",
        "      index = value_list.index(value)\n",
        "      if index < closest_index:\n",
        "        closest_index = index\n",
        "        closest_key = key\n",
        "\n",
        "  return closest_key\n",
        "\n",
        "# Example usage:\n",
        "my_dict = {'a': ['x', 'y', 'z'], 'b': ['z', 'x'], 'c': ['y', 'z', 'x']}\n",
        "print(closest_key(my_dict, 'x'))  # Output: 'a'\n",
        "print(closest_key(my_dict, 'y'))  # Output: 'c'\n",
        "print(closest_key(my_dict, 'w'))  # Output: None"
      ],
      "metadata": {
        "colab": {
          "base_uri": "https://localhost:8080/"
        },
        "id": "6WtPCeqars1N",
        "outputId": "17cc421f-6e96-4a91-e06a-67eb88f1c229"
      },
      "execution_count": 16,
      "outputs": [
        {
          "output_type": "stream",
          "name": "stdout",
          "text": [
            "a\n",
            "c\n",
            "None\n"
          ]
        }
      ]
    }
  ]
}